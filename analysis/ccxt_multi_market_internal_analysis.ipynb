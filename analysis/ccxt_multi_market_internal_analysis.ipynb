{
 "cells": [
  {
   "cell_type": "markdown",
   "metadata": {},
   "source": [
    "1. Download and store 1m/15m/30m/1h closing prices from solid/prospecting exchanges.\n",
    "  - Maybe CCXTDownloader wrapper should be constituted?\n",
    "2. Feed it to the /modules\n",
    "3. Store the results (there maybe are some global adjustments needed in order to lay down approptiate structure).\n",
    "*4. Build live running order exec"
   ]
  },
  {
   "cell_type": "code",
   "execution_count": null,
   "metadata": {},
   "outputs": [],
   "source": []
  }
 ],
 "metadata": {
  "language_info": {
   "name": "python"
  },
  "orig_nbformat": 4
 },
 "nbformat": 4,
 "nbformat_minor": 2
}
