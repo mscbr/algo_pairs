{
 "cells": [
  {
   "cell_type": "markdown",
   "metadata": {},
   "source": [
    "1. Download and store 1m/15m/30m/1h closing prices from solid/prospecting exchanges (Binance for now)\n",
    "2. Feed it to the /modules\n",
    "3. Store the results (there maybe are some global adjustments needed in order to lay down approptiate structure).\n",
    "4. Build live running order exec"
   ]
  },
  {
   "cell_type": "code",
   "execution_count": 1,
   "metadata": {},
   "outputs": [],
   "source": [
    "# CONFIG\n",
    "report_dir = \"TEST_1_REPORT\"\n",
    "ticker_intervals = [\"30m\", \"15m\", \"1m\"]"
   ]
  },
  {
   "cell_type": "markdown",
   "metadata": {},
   "source": [
    "<h2 style=\"color:yellow;\">CORR_COINT ANALYSIS</h2>"
   ]
  },
  {
   "cell_type": "code",
   "execution_count": 1,
   "metadata": {},
   "outputs": [],
   "source": [
    "import os, sys\n",
    "parent_dir = os.path.abspath('..')\n",
    "if parent_dir not in sys.path:\n",
    "    sys.path.append(parent_dir)\n",
    "\n",
    "from modules.CointAnalyzer import Coint_Analyzer\n",
    "\n"
   ]
  },
  {
   "cell_type": "code",
   "execution_count": 2,
   "metadata": {},
   "outputs": [],
   "source": [
    "coint_analyzer = Coint_Analyzer(\n",
    "  raw_data_path=\"../raw_data/BINANCE_DOWNLOADER_TESTS/\",\n",
    "  closing_prices_container_paths=[\n",
    "            \"binance_historical_30m_FUTURES_6b1f260d-1873-417a-ae21-1317557f5930\"],\n",
    "  processed_data_path=\"../processed_data/ANALYZER_TEST/\",\n",
    "  interval=\"30m\",\n",
    "  days_filter=360,\n",
    "  corr_filter=0.95\n",
    ")"
   ]
  },
  {
   "cell_type": "code",
   "execution_count": 3,
   "metadata": {},
   "outputs": [
    {
     "name": "stdout",
     "output_type": "stream",
     "text": [
      "Performing coint test 0 737\n",
      "Performing coint test 1 737\n"
     ]
    },
    {
     "ename": "KeyboardInterrupt",
     "evalue": "",
     "output_type": "error",
     "traceback": [
      "\u001b[0;31m---------------------------------------------------------------------------\u001b[0m",
      "\u001b[0;31mKeyboardInterrupt\u001b[0m                         Traceback (most recent call last)",
      "\u001b[1;32m/Users/mscbr/Documents/projects/ALGO_T/crypto/delta-neutral/analysis/binance_derivatives_analysis.ipynb Cell 6\u001b[0m in \u001b[0;36m<cell line: 1>\u001b[0;34m()\u001b[0m\n\u001b[0;32m----> <a href='vscode-notebook-cell:/Users/mscbr/Documents/projects/ALGO_T/crypto/delta-neutral/analysis/binance_derivatives_analysis.ipynb#W5sZmlsZQ%3D%3D?line=0'>1</a>\u001b[0m coint_analyzer\u001b[39m.\u001b[39;49mgenerate_co_matrices(vanilla_kalman\u001b[39m=\u001b[39;49m\u001b[39mTrue\u001b[39;49;00m)\n",
      "File \u001b[0;32m~/Documents/projects/ALGO_T/crypto/delta-neutral/modules/CointAnalyzer.py:95\u001b[0m, in \u001b[0;36mCoint_Analyzer.generate_co_matrices\u001b[0;34m(self, generate_excel, vanilla_kalman)\u001b[0m\n\u001b[1;32m     92\u001b[0m \u001b[39mself\u001b[39m\u001b[39m.\u001b[39m_get_correlated_pairs(\n\u001b[1;32m     93\u001b[0m     generate_excel\u001b[39m=\u001b[39mgenerate_excel, corr_filter\u001b[39m=\u001b[39m\u001b[39mself\u001b[39m\u001b[39m.\u001b[39mcorr_filter)\n\u001b[1;32m     94\u001b[0m \u001b[39m# COINTEGRATION\u001b[39;00m\n\u001b[0;32m---> 95\u001b[0m \u001b[39mself\u001b[39;49m\u001b[39m.\u001b[39;49m_get_cointegrated_pairs(vanilla_kalman\u001b[39m=\u001b[39;49mvanilla_kalman)\n",
      "File \u001b[0;32m~/Documents/projects/ALGO_T/crypto/delta-neutral/modules/CointAnalyzer.py:138\u001b[0m, in \u001b[0;36mCoint_Analyzer._get_cointegrated_pairs\u001b[0;34m(self, vanilla_kalman)\u001b[0m\n\u001b[1;32m    136\u001b[0m inst_1 \u001b[39m=\u001b[39m corr_pair[\u001b[39m0\u001b[39m]\n\u001b[1;32m    137\u001b[0m inst_2 \u001b[39m=\u001b[39m corr_pair[\u001b[39m1\u001b[39m]\n\u001b[0;32m--> 138\u001b[0m result \u001b[39m=\u001b[39m coint(df[inst_1], df[inst_2])\n\u001b[1;32m    140\u001b[0m \u001b[39m# testing for spread stationarity\u001b[39;00m\n\u001b[1;32m    141\u001b[0m \u001b[39mif\u001b[39;00m result[\u001b[39m1\u001b[39m] \u001b[39m<\u001b[39m \u001b[39m0.05\u001b[39m:\n",
      "File \u001b[0;32m~/opt/anaconda3/envs/trader_env/lib/python3.8/site-packages/statsmodels/tsa/stattools.py:1717\u001b[0m, in \u001b[0;36mcoint\u001b[0;34m(y0, y1, trend, method, maxlag, autolag, return_results)\u001b[0m\n\u001b[1;32m   1714\u001b[0m res_co \u001b[39m=\u001b[39m OLS(y0, xx)\u001b[39m.\u001b[39mfit()\n\u001b[1;32m   1716\u001b[0m \u001b[39mif\u001b[39;00m res_co\u001b[39m.\u001b[39mrsquared \u001b[39m<\u001b[39m \u001b[39m1\u001b[39m \u001b[39m-\u001b[39m \u001b[39m100\u001b[39m \u001b[39m*\u001b[39m SQRTEPS:\n\u001b[0;32m-> 1717\u001b[0m     res_adf \u001b[39m=\u001b[39m adfuller(\n\u001b[1;32m   1718\u001b[0m         res_co\u001b[39m.\u001b[39;49mresid, maxlag\u001b[39m=\u001b[39;49mmaxlag, autolag\u001b[39m=\u001b[39;49mautolag, regression\u001b[39m=\u001b[39;49m\u001b[39m\"\u001b[39;49m\u001b[39mn\u001b[39;49m\u001b[39m\"\u001b[39;49m\n\u001b[1;32m   1719\u001b[0m     )\n\u001b[1;32m   1720\u001b[0m \u001b[39melse\u001b[39;00m:\n\u001b[1;32m   1721\u001b[0m     warnings\u001b[39m.\u001b[39mwarn(\n\u001b[1;32m   1722\u001b[0m         \u001b[39m\"\u001b[39m\u001b[39my0 and y1 are (almost) perfectly colinear.\u001b[39m\u001b[39m\"\u001b[39m\n\u001b[1;32m   1723\u001b[0m         \u001b[39m\"\u001b[39m\u001b[39mCointegration test is not reliable in this case.\u001b[39m\u001b[39m\"\u001b[39m,\n\u001b[1;32m   1724\u001b[0m         CollinearityWarning,\n\u001b[1;32m   1725\u001b[0m     )\n",
      "File \u001b[0;32m~/opt/anaconda3/envs/trader_env/lib/python3.8/site-packages/statsmodels/tsa/stattools.py:321\u001b[0m, in \u001b[0;36madfuller\u001b[0;34m(x, maxlag, regression, autolag, store, regresults)\u001b[0m\n\u001b[1;32m    315\u001b[0m \u001b[39m# 1 for level\u001b[39;00m\n\u001b[1;32m    316\u001b[0m \u001b[39m# search for lag length with smallest information criteria\u001b[39;00m\n\u001b[1;32m    317\u001b[0m \u001b[39m# Note: use the same number of observations to have comparable IC\u001b[39;00m\n\u001b[1;32m    318\u001b[0m \u001b[39m# aic and bic: smaller is better\u001b[39;00m\n\u001b[1;32m    320\u001b[0m \u001b[39mif\u001b[39;00m \u001b[39mnot\u001b[39;00m regresults:\n\u001b[0;32m--> 321\u001b[0m     icbest, bestlag \u001b[39m=\u001b[39m _autolag(\n\u001b[1;32m    322\u001b[0m         OLS, xdshort, fullRHS, startlag, maxlag, autolag\n\u001b[1;32m    323\u001b[0m     )\n\u001b[1;32m    324\u001b[0m \u001b[39melse\u001b[39;00m:\n\u001b[1;32m    325\u001b[0m     icbest, bestlag, alres \u001b[39m=\u001b[39m _autolag(\n\u001b[1;32m    326\u001b[0m         OLS,\n\u001b[1;32m    327\u001b[0m         xdshort,\n\u001b[0;32m   (...)\u001b[0m\n\u001b[1;32m    332\u001b[0m         regresults\u001b[39m=\u001b[39mregresults,\n\u001b[1;32m    333\u001b[0m     )\n",
      "File \u001b[0;32m~/opt/anaconda3/envs/trader_env/lib/python3.8/site-packages/statsmodels/tsa/stattools.py:130\u001b[0m, in \u001b[0;36m_autolag\u001b[0;34m(mod, endog, exog, startlag, maxlag, method, modargs, fitargs, regresults)\u001b[0m\n\u001b[1;32m    128\u001b[0m \u001b[39mfor\u001b[39;00m lag \u001b[39min\u001b[39;00m \u001b[39mrange\u001b[39m(startlag, startlag \u001b[39m+\u001b[39m maxlag \u001b[39m+\u001b[39m \u001b[39m1\u001b[39m):\n\u001b[1;32m    129\u001b[0m     mod_instance \u001b[39m=\u001b[39m mod(endog, exog[:, :lag], \u001b[39m*\u001b[39mmodargs)\n\u001b[0;32m--> 130\u001b[0m     results[lag] \u001b[39m=\u001b[39m mod_instance\u001b[39m.\u001b[39;49mfit()\n\u001b[1;32m    132\u001b[0m \u001b[39mif\u001b[39;00m method \u001b[39m==\u001b[39m \u001b[39m\"\u001b[39m\u001b[39maic\u001b[39m\u001b[39m\"\u001b[39m:\n\u001b[1;32m    133\u001b[0m     icbest, bestlag \u001b[39m=\u001b[39m \u001b[39mmin\u001b[39m((v\u001b[39m.\u001b[39maic, k) \u001b[39mfor\u001b[39;00m k, v \u001b[39min\u001b[39;00m results\u001b[39m.\u001b[39mitems())\n",
      "File \u001b[0;32m~/opt/anaconda3/envs/trader_env/lib/python3.8/site-packages/statsmodels/regression/linear_model.py:306\u001b[0m, in \u001b[0;36mRegressionModel.fit\u001b[0;34m(self, method, cov_type, cov_kwds, use_t, **kwargs)\u001b[0m\n\u001b[1;32m    301\u001b[0m \u001b[39mif\u001b[39;00m method \u001b[39m==\u001b[39m \u001b[39m\"\u001b[39m\u001b[39mpinv\u001b[39m\u001b[39m\"\u001b[39m:\n\u001b[1;32m    302\u001b[0m     \u001b[39mif\u001b[39;00m \u001b[39mnot\u001b[39;00m (\u001b[39mhasattr\u001b[39m(\u001b[39mself\u001b[39m, \u001b[39m'\u001b[39m\u001b[39mpinv_wexog\u001b[39m\u001b[39m'\u001b[39m) \u001b[39mand\u001b[39;00m\n\u001b[1;32m    303\u001b[0m             \u001b[39mhasattr\u001b[39m(\u001b[39mself\u001b[39m, \u001b[39m'\u001b[39m\u001b[39mnormalized_cov_params\u001b[39m\u001b[39m'\u001b[39m) \u001b[39mand\u001b[39;00m\n\u001b[1;32m    304\u001b[0m             \u001b[39mhasattr\u001b[39m(\u001b[39mself\u001b[39m, \u001b[39m'\u001b[39m\u001b[39mrank\u001b[39m\u001b[39m'\u001b[39m)):\n\u001b[0;32m--> 306\u001b[0m         \u001b[39mself\u001b[39m\u001b[39m.\u001b[39mpinv_wexog, singular_values \u001b[39m=\u001b[39m pinv_extended(\u001b[39mself\u001b[39;49m\u001b[39m.\u001b[39;49mwexog)\n\u001b[1;32m    307\u001b[0m         \u001b[39mself\u001b[39m\u001b[39m.\u001b[39mnormalized_cov_params \u001b[39m=\u001b[39m np\u001b[39m.\u001b[39mdot(\n\u001b[1;32m    308\u001b[0m             \u001b[39mself\u001b[39m\u001b[39m.\u001b[39mpinv_wexog, np\u001b[39m.\u001b[39mtranspose(\u001b[39mself\u001b[39m\u001b[39m.\u001b[39mpinv_wexog))\n\u001b[1;32m    310\u001b[0m         \u001b[39m# Cache these singular values for use later.\u001b[39;00m\n",
      "File \u001b[0;32m~/opt/anaconda3/envs/trader_env/lib/python3.8/site-packages/statsmodels/tools/tools.py:339\u001b[0m, in \u001b[0;36mpinv_extended\u001b[0;34m(x, rcond)\u001b[0m\n\u001b[1;32m    337\u001b[0m x \u001b[39m=\u001b[39m np\u001b[39m.\u001b[39masarray(x)\n\u001b[1;32m    338\u001b[0m x \u001b[39m=\u001b[39m x\u001b[39m.\u001b[39mconjugate()\n\u001b[0;32m--> 339\u001b[0m u, s, vt \u001b[39m=\u001b[39m np\u001b[39m.\u001b[39;49mlinalg\u001b[39m.\u001b[39;49msvd(x, \u001b[39mFalse\u001b[39;49;00m)\n\u001b[1;32m    340\u001b[0m s_orig \u001b[39m=\u001b[39m np\u001b[39m.\u001b[39mcopy(s)\n\u001b[1;32m    341\u001b[0m m \u001b[39m=\u001b[39m u\u001b[39m.\u001b[39mshape[\u001b[39m0\u001b[39m]\n",
      "File \u001b[0;32m<__array_function__ internals>:5\u001b[0m, in \u001b[0;36msvd\u001b[0;34m(*args, **kwargs)\u001b[0m\n",
      "File \u001b[0;32m~/opt/anaconda3/envs/trader_env/lib/python3.8/site-packages/numpy/linalg/linalg.py:1660\u001b[0m, in \u001b[0;36msvd\u001b[0;34m(a, full_matrices, compute_uv, hermitian)\u001b[0m\n\u001b[1;32m   1657\u001b[0m         gufunc \u001b[39m=\u001b[39m _umath_linalg\u001b[39m.\u001b[39msvd_n_s\n\u001b[1;32m   1659\u001b[0m signature \u001b[39m=\u001b[39m \u001b[39m'\u001b[39m\u001b[39mD->DdD\u001b[39m\u001b[39m'\u001b[39m \u001b[39mif\u001b[39;00m isComplexType(t) \u001b[39melse\u001b[39;00m \u001b[39m'\u001b[39m\u001b[39md->ddd\u001b[39m\u001b[39m'\u001b[39m\n\u001b[0;32m-> 1660\u001b[0m u, s, vh \u001b[39m=\u001b[39m gufunc(a, signature\u001b[39m=\u001b[39;49msignature, extobj\u001b[39m=\u001b[39;49mextobj)\n\u001b[1;32m   1661\u001b[0m u \u001b[39m=\u001b[39m u\u001b[39m.\u001b[39mastype(result_t, copy\u001b[39m=\u001b[39m\u001b[39mFalse\u001b[39;00m)\n\u001b[1;32m   1662\u001b[0m s \u001b[39m=\u001b[39m s\u001b[39m.\u001b[39mastype(_realType(result_t), copy\u001b[39m=\u001b[39m\u001b[39mFalse\u001b[39;00m)\n",
      "\u001b[0;31mKeyboardInterrupt\u001b[0m: "
     ]
    }
   ],
   "source": [
    "coint_analyzer.generate_co_matrices(vanilla_kalman=True)"
   ]
  },
  {
   "cell_type": "code",
   "execution_count": 5,
   "metadata": {},
   "outputs": [],
   "source": [
    "import pandas as pd\n",
    "import numpy as np\n",
    "from statsmodels.tsa.stattools import coint"
   ]
  },
  {
   "cell_type": "code",
   "execution_count": 22,
   "metadata": {},
   "outputs": [],
   "source": [
    "correlations = pd.read_csv(\n",
    "  \"../processed_data/ANALYZER_TEST/corr_pairs_30m_0bc9b4e2-c436-4d34-a05b-ff48a8885904.csv\",\n",
    "  index_col=0)\n",
    "cointegrations = pd.read_csv(\n",
    "  \"../processed_data/ANALYZER_TEST/coint_pairs_30m_0bc9b4e2-c436-4d34-a05b-ff48a8885904.csv\",\n",
    "  index_col=0)\n"
   ]
  },
  {
   "cell_type": "code",
   "execution_count": 24,
   "metadata": {},
   "outputs": [
    {
     "data": {
      "text/html": [
       "<div>\n",
       "<style scoped>\n",
       "    .dataframe tbody tr th:only-of-type {\n",
       "        vertical-align: middle;\n",
       "    }\n",
       "\n",
       "    .dataframe tbody tr th {\n",
       "        vertical-align: top;\n",
       "    }\n",
       "\n",
       "    .dataframe thead th {\n",
       "        text-align: right;\n",
       "    }\n",
       "</style>\n",
       "<table border=\"1\" class=\"dataframe\">\n",
       "  <thead>\n",
       "    <tr style=\"text-align: right;\">\n",
       "      <th></th>\n",
       "      <th>0</th>\n",
       "    </tr>\n",
       "  </thead>\n",
       "  <tbody>\n",
       "    <tr>\n",
       "      <th>DOGEUSDT_FUTURES-DOGEBUSD_FUTURES</th>\n",
       "      <td>0.999989</td>\n",
       "    </tr>\n",
       "    <tr>\n",
       "      <th>ETHUSDT_FUTURES-ETHBUSD_FUTURES</th>\n",
       "      <td>0.999987</td>\n",
       "    </tr>\n",
       "    <tr>\n",
       "      <th>ADAUSDT_FUTURES-ADABUSD_FUTURES</th>\n",
       "      <td>0.999987</td>\n",
       "    </tr>\n",
       "    <tr>\n",
       "      <th>BNBUSDT_FUTURES-BNBBUSD_FUTURES</th>\n",
       "      <td>0.999985</td>\n",
       "    </tr>\n",
       "    <tr>\n",
       "      <th>SOLUSDT_FUTURES-SOLBUSD_FUTURES</th>\n",
       "      <td>0.999983</td>\n",
       "    </tr>\n",
       "    <tr>\n",
       "      <th>...</th>\n",
       "      <td>...</td>\n",
       "    </tr>\n",
       "    <tr>\n",
       "      <th>SANDUSDT_FUTURES-ALICEUSDT_FUTURES</th>\n",
       "      <td>0.950140</td>\n",
       "    </tr>\n",
       "    <tr>\n",
       "      <th>SXPUSDT_FUTURES-CELRUSDT_FUTURES</th>\n",
       "      <td>0.950124</td>\n",
       "    </tr>\n",
       "    <tr>\n",
       "      <th>VETUSDT_FUTURES-BNBBUSD_FUTURES</th>\n",
       "      <td>0.950059</td>\n",
       "    </tr>\n",
       "    <tr>\n",
       "      <th>UNIUSDT_FUTURES-HOTUSDT_FUTURES</th>\n",
       "      <td>0.950032</td>\n",
       "    </tr>\n",
       "    <tr>\n",
       "      <th>ADAUSDT_FUTURES-AAVEUSDT_FUTURES</th>\n",
       "      <td>0.950025</td>\n",
       "    </tr>\n",
       "  </tbody>\n",
       "</table>\n",
       "<p>737 rows × 1 columns</p>\n",
       "</div>"
      ],
      "text/plain": [
       "                                           0\n",
       "DOGEUSDT_FUTURES-DOGEBUSD_FUTURES   0.999989\n",
       "ETHUSDT_FUTURES-ETHBUSD_FUTURES     0.999987\n",
       "ADAUSDT_FUTURES-ADABUSD_FUTURES     0.999987\n",
       "BNBUSDT_FUTURES-BNBBUSD_FUTURES     0.999985\n",
       "SOLUSDT_FUTURES-SOLBUSD_FUTURES     0.999983\n",
       "...                                      ...\n",
       "SANDUSDT_FUTURES-ALICEUSDT_FUTURES  0.950140\n",
       "SXPUSDT_FUTURES-CELRUSDT_FUTURES    0.950124\n",
       "VETUSDT_FUTURES-BNBBUSD_FUTURES     0.950059\n",
       "UNIUSDT_FUTURES-HOTUSDT_FUTURES     0.950032\n",
       "ADAUSDT_FUTURES-AAVEUSDT_FUTURES    0.950025\n",
       "\n",
       "[737 rows x 1 columns]"
      ]
     },
     "execution_count": 24,
     "metadata": {},
     "output_type": "execute_result"
    }
   ],
   "source": [
    "correlations = correlations.loc[correlations.iloc[:, 0]\n",
    "                                            > 0.95]\n",
    "correlations"
   ]
  }
 ],
 "metadata": {
  "kernelspec": {
   "display_name": "Python 3.8.13 ('trader_env')",
   "language": "python",
   "name": "python3"
  },
  "language_info": {
   "codemirror_mode": {
    "name": "ipython",
    "version": 3
   },
   "file_extension": ".py",
   "mimetype": "text/x-python",
   "name": "python",
   "nbconvert_exporter": "python",
   "pygments_lexer": "ipython3",
   "version": "3.8.13"
  },
  "orig_nbformat": 4,
  "vscode": {
   "interpreter": {
    "hash": "51043f12cc41a0415ec9a5864812a206c32759eeedd2c2d6292bc5f1056404b5"
   }
  }
 },
 "nbformat": 4,
 "nbformat_minor": 2
}
