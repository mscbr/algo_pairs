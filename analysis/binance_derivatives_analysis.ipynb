{
 "cells": [
  {
   "cell_type": "markdown",
   "metadata": {},
   "source": [
    "1. Download and store 1m/15m/30m/1h closing prices from solid/prospecting exchanges (Binance for now)\n",
    "2. Feed it to the /modules\n",
    "3. Store the results (there maybe are some global adjustments needed in order to lay down approptiate structure).\n",
    "4. Build live running order exec\n",
    "* think about volatility filter in further steps"
   ]
  },
  {
   "cell_type": "code",
   "execution_count": null,
   "metadata": {},
   "outputs": [],
   "source": [
    "# maybe I should ommit the vectorised backtester and go with iterative straight away?"
   ]
  },
  {
   "cell_type": "code",
   "execution_count": 1,
   "metadata": {},
   "outputs": [],
   "source": [
    "# CONFIG\n",
    "report_dir = \"TEST_1_REPORT\"\n",
    "ticker_intervals = [\"30m\", \"15m\", \"1m\"]"
   ]
  },
  {
   "cell_type": "markdown",
   "metadata": {},
   "source": [
    "<h2 style=\"color:yellow;\">CORR_COINT ANALYSIS</h2>"
   ]
  },
  {
   "cell_type": "code",
   "execution_count": 1,
   "metadata": {},
   "outputs": [],
   "source": [
    "import os, sys\n",
    "parent_dir = os.path.abspath('..')\n",
    "if parent_dir not in sys.path:\n",
    "    sys.path.append(parent_dir)\n",
    "\n",
    "from modules.CointAnalyzer import Coint_Analyzer\n",
    "\n"
   ]
  },
  {
   "cell_type": "code",
   "execution_count": 4,
   "metadata": {},
   "outputs": [],
   "source": [
    "coint_analyzer = Coint_Analyzer(\n",
    "  raw_data_path=\"../raw_data/BINANCE_DOWNLOADER_TESTS/\",\n",
    "  closing_prices_container_paths=[\n",
    "            \"binance_historical_5m_FUTURES_cdcfc8f6-99fe-4124-acec-87acd320c321\"],\n",
    "  processed_data_path=\"../processed_data/ANALYZER_TEST/\",\n",
    "  interval=\"1h\",\n",
    "  days_filter=320,\n",
    "  corr_filter=0.96,\n",
    "  # cache_path=\"../processed_data/ANALYZER_TEST/CACHE_TESTS/coint_anal_cache_1h_244f32bd-dcca-484c-9b59-875a132d3dbd.csv\"\n",
    ")"
   ]
  },
  {
   "cell_type": "code",
   "execution_count": 5,
   "metadata": {},
   "outputs": [
    {
     "name": "stdout",
     "output_type": "stream",
     "text": [
      "Performing coint test 0 34\n",
      "Performing coint test 1 34\n",
      "Performing coint test 2 34\n",
      "Performing coint test 3 34\n",
      "Performing coint test 4 34\n",
      "Performing coint test 5 34\n",
      "Performing coint test 6 34\n",
      "Performing coint test 7 34\n",
      "Performing coint test 8 34\n",
      "Performing coint test 9 34\n",
      "Performing coint test 10 34\n",
      "Performing coint test 11 34\n",
      "Performing coint test 12 34\n",
      "Performing coint test 13 34\n",
      "Performing coint test 14 34\n",
      "Performing coint test 15 34\n",
      "Performing coint test 16 34\n",
      "Performing coint test 17 34\n",
      "Performing coint test 18 34\n",
      "Performing coint test 19 34\n",
      "Performing coint test 20 34\n",
      "Performing coint test 21 34\n",
      "Performing coint test 22 34\n",
      "Performing coint test 23 34\n",
      "Performing coint test 24 34\n",
      "Performing coint test 25 34\n",
      "Performing coint test 26 34\n",
      "Performing coint test 27 34\n",
      "Performing coint test 28 34\n",
      "Performing coint test 29 34\n",
      "Performing coint test 30 34\n",
      "Performing coint test 31 34\n",
      "Performing coint test 32 34\n",
      "Performing coint test 33 34\n"
     ]
    }
   ],
   "source": [
    "coint_analyzer.generate_co_matrices(vanilla_kalman=True, create_cache=True)"
   ]
  },
  {
   "cell_type": "markdown",
   "metadata": {},
   "source": [
    "<h2 style=\"color: yellow\">BIN<h2>"
   ]
  },
  {
   "cell_type": "code",
   "execution_count": 9,
   "metadata": {},
   "outputs": [
    {
     "data": {
      "text/plain": [
       "0.9833615167786467"
      ]
     },
     "execution_count": 9,
     "metadata": {},
     "output_type": "execute_result"
    }
   ],
   "source": [
    "coint_analyzer.corr_pairs.loc['ONTUSDT_FUTURES-NEOUSDT_FUTURES'][0]"
   ]
  },
  {
   "cell_type": "code",
   "execution_count": 7,
   "metadata": {},
   "outputs": [],
   "source": [
    "import pandas as pd\n",
    "import numpy as np"
   ]
  },
  {
   "cell_type": "code",
   "execution_count": 7,
   "metadata": {},
   "outputs": [],
   "source": [
    "# most probabli i have to develop caching for coint anal\n",
    "cache = pd.DataFrame(index=[\"corr_pairs_names\", \"corr_pairs_names3\", \"corr_pairs_names2\"], data={\n",
    "                                     'analyzed': [False],\n",
    "                                     'corr': [np.nan],\n",
    "                                     'adf': [np.nan],\n",
    "                                     'hurst': [np.nan]})"
   ]
  },
  {
   "cell_type": "code",
   "execution_count": null,
   "metadata": {},
   "outputs": [],
   "source": []
  }
 ],
 "metadata": {
  "kernelspec": {
   "display_name": "Python 3.8.13 ('trader_env')",
   "language": "python",
   "name": "python3"
  },
  "language_info": {
   "codemirror_mode": {
    "name": "ipython",
    "version": 3
   },
   "file_extension": ".py",
   "mimetype": "text/x-python",
   "name": "python",
   "nbconvert_exporter": "python",
   "pygments_lexer": "ipython3",
   "version": "3.8.13"
  },
  "orig_nbformat": 4,
  "vscode": {
   "interpreter": {
    "hash": "51043f12cc41a0415ec9a5864812a206c32759eeedd2c2d6292bc5f1056404b5"
   }
  }
 },
 "nbformat": 4,
 "nbformat_minor": 2
}
