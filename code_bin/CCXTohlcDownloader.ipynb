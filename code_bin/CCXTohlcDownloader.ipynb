{
 "cells": [
  {
   "cell_type": "code",
   "execution_count": 2,
   "metadata": {},
   "outputs": [],
   "source": [
    "import ccxt\n",
    "from datetime import datetime"
   ]
  },
  {
   "cell_type": "code",
   "execution_count": 6,
   "metadata": {},
   "outputs": [],
   "source": [
    "class CCXT_Ohlc_downloader:\n",
    "  def __init__(\n",
    "    self,\n",
    "    exchange,\n",
    "    acc_type=\"margin\",\n",
    "    since=\"2022-01-01\",\n",
    "    intervals=[\"15m\", \"30m\"],\n",
    "    rate_limit_ps=3\n",
    "    ):\n",
    "    \n",
    "    self.exchange_id = exchange\n",
    "    self.acc_type = acc_type\n",
    "    self.since = since\n",
    "    self.intervals = intervals\n",
    "    self.rate_limit_ps = rate_limit_ps\n",
    "    self.interval_s_map = {\n",
    "      \"1m\": 60,\n",
    "      \"3m\": 180,\n",
    "      \"5m\": 300,\n",
    "      \"15m\": 900,\n",
    "      \"30m\": 1800,\n",
    "      \"1h\": 3600\n",
    "    }\n",
    "    \n",
    "  def initialize(self):\n",
    "    try:\n",
    "      self.exchange = getattr (ccxt, self.exchange_id) ()\n",
    "    except AttributeError:\n",
    "      print('-'*36,' ERROR ','-'*35)\n",
    "      print('Exchange \"{}\" not found. Please check the exchange is supported.'.format(self.exchange_id))\n",
    "      print('-'*80)\n",
    "      quit()\n",
    "      \n",
    "    try:\n",
    "      self.exchange.options = {'defaultType': self.acc_type}\n",
    "    except:\n",
    "       print('-'*36,' ERROR ','-'*35)\n",
    "       quit()\n",
    "    # seem like values should be taken from keys OR? \n",
    "    # if (self.acc_type in self.exchange.options['accountsByType'].values()):\n",
    "    #   self.exchange.options = {'defaultType': self.acc_type}\n",
    "    # else:\n",
    "    #   print('-'*36,' ERROR ','-'*35)\n",
    "    #   print('Selected account (market) type (\"{}\") is not available from {}\\n'.format(self.acc_type, self.exchange_id))\n",
    "    #   print(\"Available types are:\")\n",
    "    #   for value in self.exchange.options['accountsByType'].values():\n",
    "    #     print(' - ' + value)\n",
    "    #   print('-'*80)\n",
    "    #   quit()\n",
    "      \n",
    "    if self.exchange.has[\"fetchOHLCV\"] != True:\n",
    "      print('-'*36,' ERROR ','-'*35)\n",
    "      print('{} does not support fetching OHLC data. Please use another  exchange'.format(self.exchange_id))\n",
    "      print('-'*80)\n",
    "      quit()\n",
    "    \n",
    "    for interval in self.intervals:\n",
    "      if (not hasattr(self.exchange, 'timeframes')) or (interval not in self.exchange.timeframes):\n",
    "          print('-'*36,' ERROR ','-'*35)\n",
    "          print('The requested timeframe ({}) is not available from {}\\n'.format(interval, self.exchange_id))\n",
    "          print('Available timeframes are:')\n",
    "          for key in self.exchange.timeframes.keys():\n",
    "              print('  - ' + key)\n",
    "          print('-'*80)\n",
    "          quit()"
   ]
  },
  {
   "cell_type": "code",
   "execution_count": 7,
   "metadata": {},
   "outputs": [],
   "source": [
    "downloader = CCXT_Ohlc_downloader(exchange=\"binance\", acc_type=\"MARGIN\")"
   ]
  },
  {
   "cell_type": "code",
   "execution_count": 8,
   "metadata": {},
   "outputs": [],
   "source": [
    "downloader.initialize()"
   ]
  },
  {
   "cell_type": "code",
   "execution_count": 9,
   "metadata": {},
   "outputs": [
    {
     "data": {
      "text/plain": [
       "<__main__.CCXT_Ohlc_downloader at 0x7ff248d4a970>"
      ]
     },
     "execution_count": 9,
     "metadata": {},
     "output_type": "execute_result"
    }
   ],
   "source": [
    "downloader"
   ]
  },
  {
   "cell_type": "code",
   "execution_count": 12,
   "metadata": {},
   "outputs": [
    {
     "name": "stdout",
     "output_type": "stream",
     "text": [
      "ERROR\n"
     ]
    }
   ],
   "source": [
    "try:\n",
    "  downloader.exchange.load_markets()\n",
    "except:\n",
    "  print(\"ERROR\")"
   ]
  },
  {
   "cell_type": "code",
   "execution_count": 29,
   "metadata": {},
   "outputs": [],
   "source": [
    "# this only work for binance derivatives :thinking_face:\n",
    "exchange = getattr(ccxt, 'bitmart')()\n",
    "# exchange.timeframes\n"
   ]
  },
  {
   "cell_type": "code",
   "execution_count": 30,
   "metadata": {},
   "outputs": [
    {
     "data": {
      "text/plain": [
       "{'networks': {'TRX': 'TRC20', 'ETH': 'ERC20'},\n",
       " 'defaultNetworks': {'USDT': 'ERC20'},\n",
       " 'defaultType': 'spot',\n",
       " 'fetchBalance': {'type': 'spot'},\n",
       " 'createMarketBuyOrderRequiresPrice': True}"
      ]
     },
     "execution_count": 30,
     "metadata": {},
     "output_type": "execute_result"
    }
   ],
   "source": [
    "exchange.options"
   ]
  },
  {
   "cell_type": "code",
   "execution_count": 35,
   "metadata": {},
   "outputs": [],
   "source": [
    "exchange.options = {'defaultType': 'swap'}"
   ]
  },
  {
   "cell_type": "code",
   "execution_count": null,
   "metadata": {},
   "outputs": [],
   "source": [
    "exchange.load_markets()"
   ]
  },
  {
   "cell_type": "code",
   "execution_count": null,
   "metadata": {},
   "outputs": [],
   "source": [
    "# error handling to import in the main class\n",
    "import ccxt\n",
    "import pandas as pd\n",
    "\n",
    "exch = 'binance' # initial exchange\n",
    "t_frame = '1d' # 1-day timeframe, usually from 1-minute to 1-week depending on the exchange\n",
    "symbol = 'ADA/BTC' # initial symbol\n",
    "exchange_list = ['binance','bitfinex','bytetrade','ftx','kraken','poloniex','upbit','acx','bequant','bigone','bitforex','bitkk','bitz','btcalpha','coinex','crex24','digifinex','gateio','hitbtc2','huobipro','huobiru','kucoin','lbank','okex','okex3','stex','upbit','whitebit','zb']\n",
    " \n",
    "# Get our Exchange\n",
    "try:\n",
    "    exchange = getattr (ccxt, exch) ()\n",
    "except AttributeError:\n",
    "    print('-'*36,' ERROR ','-'*35)\n",
    "    print('Exchange \"{}\" not found. Please check the exchange is supported.'.format(exch))\n",
    "    print('-'*80)\n",
    "    quit()\n",
    " \n",
    "# Check if fetching of OHLC Data is supported\n",
    "if exchange.has[\"fetchOHLCV\"] != True:\n",
    "    print('-'*36,' ERROR ','-'*35)\n",
    "    print('{} does not support fetching OHLC data. Please use another  exchange'.format(exch))\n",
    "    print('-'*80)\n",
    "    quit()\n",
    " \n",
    "# Check requested timeframe is available. If not return a helpful error.\n",
    "if (not hasattr(exchange, 'timeframes')) or (t_frame not in exchange.timeframes):\n",
    "    print('-'*36,' ERROR ','-'*35)\n",
    "    print('The requested timeframe ({}) is not available from {}\\n'.format(t_frame,exch))\n",
    "    print('Available timeframes are:')\n",
    "    for key in exchange.timeframes.keys():\n",
    "        print('  - ' + key)\n",
    "    print('-'*80)\n",
    "    quit()\n",
    " \n",
    "# Check if the symbol is available on the Exchange\n",
    "exchange.load_markets()\n",
    "if symbol not in exchange.symbols:\n",
    "    print('-'*36,' ERROR ','-'*35)\n",
    "    print('The requested symbol ({}) is not available from {}\\n'.format(symbol,exch))\n",
    "    print('Available symbols are:')\n",
    "    for key in exchange.symbols:\n",
    "        print('  - ' + key)\n",
    "    print('-'*80)\n",
    "    quit()\n",
    " \n",
    " \n",
    "# Get data\n",
    "data = exchange.fetch_ohlcv(symbol, t_frame)\n",
    "header = ['Timestamp', 'Open', 'High', 'Low', 'Close', 'Volume']\n",
    "df = pd.DataFrame(data, columns=header).set_index('Timestamp')\n",
    "df['symbol'] = symbol\n",
    "syms = [symbol]\n",
    "filename = '{}.csv'.format(t_frame)\n",
    "\n",
    "for exch in exchange_list:\n",
    "    try:\n",
    "        exchange = getattr (ccxt, exch) ()\n",
    "    except AttributeError:\n",
    "        print('-'*36,' ERROR ','-'*35)\n",
    "        print('Exchange \"{}\" not found. Please check the exchange is supported.'.format(exch))\n",
    "        print('-'*80)\n",
    "        quit()\n",
    "    if exchange.has[\"fetchOHLCV\"] != True:\n",
    "        print('-'*36,' ERROR ','-'*35)\n",
    "        print('{} does not support fetching OHLC data. Please use another exchange'.format(exch))\n",
    "        print('-'*80)\n",
    "        quit()\n",
    "    if (not hasattr(exchange, 'timeframes')) or (t_frame not in exchange.timeframes):\n",
    "        print('-'*36,' ERROR ','-'*35)\n",
    "        print('The requested timeframe ({}) is not available from {}\\n'.format(t_frame,exch))\n",
    "        print('Available timeframes are:')\n",
    "        for key in exchange.timeframes.keys():\n",
    "            print('  - ' + key)\n",
    "        print('-'*80)\n",
    "        quit()\n",
    "    exchange.load_markets()\n",
    "    for coin in exchange.symbols:\n",
    "        if coin in syms or coin[-3:] != 'BTC':\n",
    "            continue\n",
    "        else:\n",
    "            try:\n",
    "                data = exchange.fetch_ohlcv(coin, t_frame)\n",
    "            except:\n",
    "                continue\n",
    "            data_df = pd.DataFrame(data, columns=header).set_index('Timestamp')\n",
    "            data_df['symbol'] = coin\n",
    "            df = df.append(data_df)\n",
    "            syms.append(coin)\n",
    "df.index = df.index/1000 #Timestamp is 1000 times bigger than it should be in this case\n",
    "df['Date'] = pd.to_datetime(df.index,unit='s')\n",
    "df.to_csv(filename)"
   ]
  },
  {
   "cell_type": "markdown",
   "metadata": {},
   "source": [
    "<h2 style=\"color:yellow;\">DATE RANGE FETCHING TESTS</h2>"
   ]
  },
  {
   "cell_type": "code",
   "execution_count": 3,
   "metadata": {},
   "outputs": [],
   "source": [
    "import ccxt\n",
    "ex = ccxt.binance()\n",
    "# from_ts = ex.parse8601('2022-07-21 00:00:00')\n",
    "# ohlcv = ex.fetch_ohlcv('BTC/USDT', '5m', since=from_ts, limit=1000)"
   ]
  },
  {
   "cell_type": "code",
   "execution_count": 118,
   "metadata": {},
   "outputs": [],
   "source": [
    "from_ts = ex.parse8601('2022-05-01 00:00:00')\n",
    "ohlcv_list = []\n",
    "ohlcv = ex.fetch_ohlcv('BTC/USDT', '5m', since=from_ts, limit=2000)\n",
    "ohlcv_list.extend(ohlcv)\n",
    "ohlcv = ex.fetch_ohlcv('BTC/USDT', '5m', since=ohlcv_list[-1][0], limit=2000)\n",
    "ohlcv_list.extend(ohlcv)\n",
    "# while(len(ohlcv)==1000):\n",
    "#     from_ts = ohlcv[-1][0]\n",
    "#     new_ohlcv = ex.fetch_ohlcv('BTC/USDT', '5m', since=from_ts, limit=1000)\n",
    "#     ohlcv.extend(new_ohlcv)"
   ]
  },
  {
   "cell_type": "code",
   "execution_count": 132,
   "metadata": {},
   "outputs": [],
   "source": [
    "interval_s_map = {\n",
    "      \"1m\": 60,\n",
    "      \"3m\": 180,\n",
    "      \"5m\": 300,\n",
    "      \"15m\": 900,\n",
    "      \"30m\": 1800,\n",
    "      \"1h\": 3600\n",
    "    }"
   ]
  },
  {
   "cell_type": "code",
   "execution_count": 4,
   "metadata": {},
   "outputs": [],
   "source": [
    "unix_start = ex.parse8601('2022-05-01 00:00:00')\n",
    "unix_end = ex.parse8601('2022-05-01 01:00:00')"
   ]
  },
  {
   "cell_type": "code",
   "execution_count": 6,
   "metadata": {},
   "outputs": [
    {
     "data": {
      "text/plain": [
       "1651363200.0"
      ]
     },
     "execution_count": 6,
     "metadata": {},
     "output_type": "execute_result"
    }
   ],
   "source": [
    "unix_start/1000"
   ]
  },
  {
   "cell_type": "code",
   "execution_count": 133,
   "metadata": {},
   "outputs": [
    {
     "data": {
      "text/plain": [
       "4.0"
      ]
     },
     "execution_count": 133,
     "metadata": {},
     "output_type": "execute_result"
    }
   ],
   "source": [
    "(unix_end - unix_start)/1000/interval_s_map[\"15m\"]"
   ]
  },
  {
   "cell_type": "code",
   "execution_count": 139,
   "metadata": {},
   "outputs": [],
   "source": [
    "def int_and_dec(float):\n",
    "  stringified = str(float)\n",
    "  num_list = stringified.split(\".\")\n",
    "  return [int(num) for num in num_list]"
   ]
  },
  {
   "cell_type": "code",
   "execution_count": 140,
   "metadata": {},
   "outputs": [
    {
     "data": {
      "text/plain": [
       "[11, 808]"
      ]
     },
     "execution_count": 140,
     "metadata": {},
     "output_type": "execute_result"
    }
   ],
   "source": [
    "int_and_dec(11.808)"
   ]
  },
  {
   "cell_type": "code",
   "execution_count": 146,
   "metadata": {},
   "outputs": [
    {
     "name": "stdout",
     "output_type": "stream",
     "text": [
      "[11, 808]\n",
      "fetching for 0\n",
      "fetching for 1\n",
      "fetching for 2\n",
      "fetching for 3\n",
      "fetching for 4\n",
      "fetching for 5\n",
      "fetching for 6\n",
      "fetching for 7\n",
      "fetching for 8\n",
      "fetching for 9\n",
      "fetching for 10\n"
     ]
    }
   ],
   "source": [
    "interval = \"15m\"\n",
    "since_unix = ex.parse8601('2022-05-01 00:00:00')\n",
    "until_unix = ex.parse8601('2022-09-01 00:00:00')\n",
    "intervals = (until_unix - since_unix)/1000/interval_s_map[interval]\n",
    "limits_1000 = int_and_dec(intervals/1000)\n",
    "print(limits_1000)\n",
    "\n",
    "ohlcv_list = []\n",
    "since = since_unix\n",
    "for x in range (limits_1000[0]):\n",
    "  print(\"fetching for\", x)\n",
    "  ohlcv = ex.fetch_ohlcv(\n",
    "    symbol='BTC/USDT',\n",
    "    timeframe=interval,\n",
    "    since=since,\n",
    "    limit=1000)\n",
    "  since = ohlcv[-1][0]\n",
    "  ohlcv_list.extend(ohlcv)\n",
    "  \n",
    "ohlcv = ex.fetch_ohlcv(\n",
    "    symbol='BTC/USDT',\n",
    "    timeframe=interval,\n",
    "    since=since,\n",
    "    limit=limits_1000[1])\n",
    "ohlcv_list.extend(ohlcv)"
   ]
  },
  {
   "cell_type": "code",
   "execution_count": 147,
   "metadata": {},
   "outputs": [
    {
     "data": {
      "text/plain": [
       "11808"
      ]
     },
     "execution_count": 147,
     "metadata": {},
     "output_type": "execute_result"
    }
   ],
   "source": [
    "len(ohlcv_list)"
   ]
  },
  {
   "cell_type": "code",
   "execution_count": 148,
   "metadata": {},
   "outputs": [
    {
     "data": {
      "text/plain": [
       "datetime.datetime(2022, 5, 1, 2, 0)"
      ]
     },
     "execution_count": 148,
     "metadata": {},
     "output_type": "execute_result"
    }
   ],
   "source": [
    "datetime.fromtimestamp(ohlcv_list[0][0]/1000)"
   ]
  },
  {
   "cell_type": "code",
   "execution_count": 149,
   "metadata": {},
   "outputs": [
    {
     "data": {
      "text/plain": [
       "datetime.datetime(2022, 8, 31, 23, 0)"
      ]
     },
     "execution_count": 149,
     "metadata": {},
     "output_type": "execute_result"
    }
   ],
   "source": [
    "datetime.fromtimestamp(ohlcv_list[-1][0]/1000)"
   ]
  },
  {
   "cell_type": "code",
   "execution_count": 112,
   "metadata": {},
   "outputs": [
    {
     "data": {
      "text/plain": [
       "['a', 'b', 'd']"
      ]
     },
     "execution_count": 112,
     "metadata": {},
     "output_type": "execute_result"
    }
   ],
   "source": [
    "list_1 = ['a', 'b']\n",
    "list_1.extend([\"d\"])\n",
    "list_1"
   ]
  }
 ],
 "metadata": {
  "kernelspec": {
   "display_name": "Python 3.8.13 ('trader_env')",
   "language": "python",
   "name": "python3"
  },
  "language_info": {
   "codemirror_mode": {
    "name": "ipython",
    "version": 3
   },
   "file_extension": ".py",
   "mimetype": "text/x-python",
   "name": "python",
   "nbconvert_exporter": "python",
   "pygments_lexer": "ipython3",
   "version": "3.8.13"
  },
  "orig_nbformat": 4,
  "vscode": {
   "interpreter": {
    "hash": "51043f12cc41a0415ec9a5864812a206c32759eeedd2c2d6292bc5f1056404b5"
   }
  }
 },
 "nbformat": 4,
 "nbformat_minor": 2
}
