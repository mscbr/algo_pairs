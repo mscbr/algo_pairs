{
 "cells": [
  {
   "cell_type": "code",
   "execution_count": 5,
   "metadata": {},
   "outputs": [],
   "source": [
    "from binance.client import AsyncClient, HistoricalKlinesType\n",
    "import pandas as pd\n",
    "\n",
    "from datetime import datetime, timedelta\n",
    "import os\n",
    "\n",
    "import asyncio"
   ]
  },
  {
   "cell_type": "code",
   "execution_count": 3,
   "metadata": {},
   "outputs": [],
   "source": [
    "client = await AsyncClient.create()\n",
    "\n",
    "class Binance_Batch_Klines_Downloader:\n",
    "  def __init__(self, days_back = 2, interval = \"1h\", klines_types=[HistoricalKlinesType.FUTURES], rate_limit_ps=2):\n",
    "    self.days_back = days_back\n",
    "    self.start = str(datetime.utcnow() - timedelta(days = self.days_back))\n",
    "    \n",
    "    self.interval = interval\n",
    "    self.klines_types = klines_types\n",
    "    self.rate_limit_ps = rate_limit_ps\n",
    "    \n",
    "  def _bars_to_df(self, bars):\n",
    "    df = pd.DataFrame(bars)\n",
    "    df[\"Date\"] = pd.to_datetime(df.iloc[:,0], unit = \"ms\")\n",
    "    df.columns = [\"Open Time\", \"Open\", \"High\", \"Low\", \"Close\", \"Volume\",\n",
    "                  \"Close Time\", \"Quote Asset Volume\", \"Number of Trades\",\n",
    "                  \"Taker Buy Base Asset Volume\", \"Taker Buy Quote Asset Volume\", \"Ignore\", \"Date\"]\n",
    "    df = df[[\"Date\", \"Open\", \"High\", \"Low\", \"Close\", \"Volume\"]].copy()\n",
    "    df.set_index(\"Date\", inplace = True)\n",
    "    for column in df.columns:\n",
    "        df[column] = pd.to_numeric(df[column], errors = \"coerce\")\n",
    "        \n",
    "    return df\n",
    "  \n",
    "  async def _get_symbols(self, klines_type):\n",
    "    exchange_info = None\n",
    "    if klines_type == HistoricalKlinesType.FUTURES:\n",
    "      exchange_info = await client.futures_exchange_info()\n",
    "    if klines_type == HistoricalKlinesType.SPOT:\n",
    "      exchange_info = await client.get_exchange_info()\n",
    "    \n",
    "    if exchange_info is not None:\n",
    "      return list(map(lambda x: x['symbol'], exchange_info['symbols']))\n",
    "  \n",
    "  async def _download_kline_type(self, klines_type):\n",
    "    symbols = await self._get_symbols(klines_type)\n",
    "    if not len(symbols):\n",
    "      return\n",
    "    \n",
    "    new_dir = \"Binance_Historical_%s_%s_%i_days_%s\" % (self.interval, klines_type.name, self.days_back, str(datetime.utcnow().replace(microsecond=0).isoformat()))\n",
    "    os.mkdir(new_dir)\n",
    "    \n",
    "    chunks = []\n",
    "    for idx, _ in enumerate(symbols):\n",
    "      if idx % self.rate_limit_ps == 0:\n",
    "        symbols_chunk = symbols[idx:idx+self.rate_limit_ps]\n",
    "        futures_chunk = []\n",
    "        \n",
    "        for symbol in symbols_chunk:\n",
    "          futures_chunk.append(client.get_historical_klines(symbol = symbol, interval = self.interval,\n",
    "                                        start_str = self.start, end_str = None, limit = 1000, klines_type=klines_type))\n",
    "          \n",
    "        chunks.append(futures_chunk)\n",
    "        \n",
    "    for index, chunk in enumerate(chunks):\n",
    "      print(\"Fetching data for ↓ %s %s\" % (klines_type.name, self.interval), \"%i / %i\" % (index, len(chunks)))\n",
    "      results = await asyncio.gather(*chunk)\n",
    "      \n",
    "      for i, bars in enumerate(results):\n",
    "        print(symbols[index*self.rate_limit_ps+i])\n",
    "        try:\n",
    "          df = self._bars_to_df(bars)\n",
    "          df.to_csv(\"%s/%s_%s_%s.csv\" % (new_dir, symbols[index*self.rate_limit_ps+i], klines_type.name, self.interval))\n",
    "        except:\n",
    "          # print(\"raw: \", bars)\n",
    "          print(\"Couldn't construct DataFrame from raw data for %s\" % symbols[index*self.rate_limit_ps+i])\n",
    "          \n",
    "  async def download(self):\n",
    "    for type in self.klines_types:\n",
    "      print(type)\n",
    "      await self._download_kline_type(type)"
   ]
  },
  {
   "cell_type": "markdown",
   "metadata": {},
   "source": [
    "<h2 style=\"color: orange\">DEMO</h2>"
   ]
  },
  {
   "cell_type": "code",
   "execution_count": null,
   "metadata": {},
   "outputs": [],
   "source": [
    "downloader = Binance_Batch_Klines_Downloader(days_back=20, interval=\"1h\", klines_types=[HistoricalKlinesType.FUTURES], rate_limit_ps=7)"
   ]
  },
  {
   "cell_type": "code",
   "execution_count": null,
   "metadata": {},
   "outputs": [],
   "source": [
    "await downloader.download()"
   ]
  }
 ],
 "metadata": {
  "kernelspec": {
   "display_name": "Python 3.8.13 ('trader_env')",
   "language": "python",
   "name": "python3"
  },
  "language_info": {
   "codemirror_mode": {
    "name": "ipython",
    "version": 3
   },
   "file_extension": ".py",
   "mimetype": "text/x-python",
   "name": "python",
   "nbconvert_exporter": "python",
   "pygments_lexer": "ipython3",
   "version": "3.8.13"
  },
  "orig_nbformat": 4,
  "vscode": {
   "interpreter": {
    "hash": "51043f12cc41a0415ec9a5864812a206c32759eeedd2c2d6292bc5f1056404b5"
   }
  }
 },
 "nbformat": 4,
 "nbformat_minor": 2
}
