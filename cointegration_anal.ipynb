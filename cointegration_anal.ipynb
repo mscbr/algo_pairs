{
 "cells": [
  {
   "cell_type": "code",
   "execution_count": 1,
   "metadata": {},
   "outputs": [],
   "source": [
    "import pandas as pd\n",
    "import numpy as np\n",
    "import statsmodels.tsa.stattools as ts\n",
    "from datetime import datetime, timedelta\n",
    "import os"
   ]
  },
  {
   "cell_type": "code",
   "execution_count": null,
   "metadata": {},
   "outputs": [],
   "source": [
    "directories = [\"Binance_Historical_1m_FUTURES_2_days_2022-06-07T21:34:10\", \"Binance_Historical_1m_SPOT_2_days_2022-06-07T21:35:14\"]"
   ]
  },
  {
   "cell_type": "code",
   "execution_count": null,
   "metadata": {},
   "outputs": [],
   "source": [
    "# MERGING INTERSECTION\n",
    "spot = []\n",
    "margin = []\n",
    "with os.scandir('raw_data/%s' % directories[0]) as entries:\n",
    "  for entry in entries:\n",
    "    entry_arr = entry.name.split(\"_\")\n",
    "    # instrument = \"_\".join(entry_arr[0:2])\n",
    "    margin.append(entry_arr[0])\n",
    "        \n",
    "with os.scandir('raw_data/%s' % directories[1]) as entries:\n",
    "    for entry in entries:\n",
    "      entry_arr = entry.name.split(\"_\")\n",
    "      # instrument = \"_\".join(entry_arr[0:2])\n",
    "      spot.append(entry_arr[0])\n",
    "\n",
    "intersection = set(spot).intersection(margin)\n",
    "\n",
    "df_closings = pd.DataFrame()\n",
    "with os.scandir('raw_data/%s' % directories[0]) as entries:\n",
    "    for idx, entry in enumerate(entries):\n",
    "        if entry.name.split(\"_\")[0] in intersection:\n",
    "            instrument = \"_\".join(entry.name.split(\"_\")[0:2])\n",
    "            df = pd.read_csv('raw_data/%s/%s' % (directories[0], entry.name), index_col=\"Date\")\n",
    "            df = df[[\"Close\"]].copy()\n",
    "            df.columns = [instrument]\n",
    "            df_closings = pd.concat([df_closings, df], axis=1)\n",
    "        \n",
    "with os.scandir('raw_data/%s' % directories[1]) as entries:\n",
    "    for idx, entry in enumerate(entries):\n",
    "        if entry.name.split(\"_\")[0] in intersection:\n",
    "            instrument = \"_\".join(entry.name.split(\"_\")[0:2])\n",
    "            df = pd.read_csv('raw_data/%s/%s' % (directories[1], entry.name), index_col=\"Date\")\n",
    "            df = df[[\"Close\"]].copy()\n",
    "            df.columns = [instrument]\n",
    "            df_closings = pd.concat([df_closings, df], axis=1)\n",
    "        \n",
    "df_closings.index = pd.to_datetime(df_closings.index)\n",
    "\n",
    "df_closings.fillna(method=\"ffill\", inplace=True)\n",
    "df_closings.fillna(value=0, inplace=True)       \n",
    "\n"
   ]
  },
  {
   "cell_type": "code",
   "execution_count": null,
   "metadata": {},
   "outputs": [],
   "source": [
    "import warnings\n",
    "warnings.filterwarnings('ignore')\n",
    "\n",
    "def cointegrated_pairs(data):\n",
    "    n =  (len(data.columns) -1)\n",
    "    stocks = data.iloc[:,1:].columns.values #pulls all stock names \n",
    "    data = data.to_numpy()\n",
    "    pvalue_matrix = np.zeros((n,n),dtype = float)\n",
    "    pairs = np.empty((n*n,3),dtype=object)\n",
    "    m = 0\n",
    "    # loop through all possilbe combintions of stocks ie 3!=6\n",
    "    for i in range(0,n):\n",
    "        for j in range(0,n):\n",
    "            S1 = data[:,i+1]\n",
    "            S2 = data[:,j+1]\n",
    "            result = ts.coint(S1,S2)\n",
    "            pvalue_matrix[i,j] = result[1]\n",
    "            #storing all paris in matrix form\n",
    "            if (result[1] < 0.05) & (i!=j):\n",
    "                pairs[m,0] = stocks[i]\n",
    "                pairs[m,1] = stocks[j] \n",
    "                pairs[m,2] = result[1]\n",
    "                m = m + 1\n",
    "    try:\n",
    "        a_file = open(\"pairs_temp_%s.txt\" % str(datetime.utcnow().replace(microsecond=0).isoformat()), \"w\")\n",
    "        for row in pairs:\n",
    "            if row[0] is not None:\n",
    "                a_file.write(\"%s/%s: %s\\n\" % (row[0], row[1], row[2]))\n",
    "        a_file.close()\n",
    "    except:\n",
    "       print(\"Couldn't save pairs to txt file\") \n",
    "       \n",
    "    return pvalue_matrix,  pairs"
   ]
  },
  {
   "cell_type": "code",
   "execution_count": null,
   "metadata": {},
   "outputs": [],
   "source": [
    "# on the MBP M1 it is ~ 37s per 100 items (10x10 np array)\n",
    "# checking 1600 instruments would take ofer 263h (~ 11 days)\n",
    "pvalue_matrix,  pairs = cointegrated_pairs(df_closings)"
   ]
  }
 ],
 "metadata": {
  "kernelspec": {
   "display_name": "Python 3.8.13 ('trader_env')",
   "language": "python",
   "name": "python3"
  },
  "language_info": {
   "codemirror_mode": {
    "name": "ipython",
    "version": 3
   },
   "file_extension": ".py",
   "mimetype": "text/x-python",
   "name": "python",
   "nbconvert_exporter": "python",
   "pygments_lexer": "ipython3",
   "version": "3.8.13"
  },
  "orig_nbformat": 4,
  "vscode": {
   "interpreter": {
    "hash": "51043f12cc41a0415ec9a5864812a206c32759eeedd2c2d6292bc5f1056404b5"
   }
  }
 },
 "nbformat": 4,
 "nbformat_minor": 2
}
